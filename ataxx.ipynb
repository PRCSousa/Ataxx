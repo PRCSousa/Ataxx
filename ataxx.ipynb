{
 "cells": [
  {
   "cell_type": "markdown",
   "metadata": {},
   "source": [
    "# Ataxx\n",
    "A project developed by Inês Cardoso and Pedro Sousa"
   ]
  },
  {
   "attachments": {},
   "cell_type": "markdown",
   "metadata": {},
   "source": [
    "### Rules of the game:\n",
    "\n",
    "Each player begins with a set amount of pieces in the board, and can move 1 piece per turn.\n",
    "Moving can be done in 2 different ways:\n",
    "- Multiplying: When you move the piece to the adjacent squares, instead of moving it, you add another piece."
   ]
  },
  {
   "cell_type": "markdown",
   "metadata": {},
   "source": [
    "#### Libraries Used:\n",
    "\n",
    "- pygame - library designed to develop video games\n",
    "- time - used to create time intervals in the code\n",
    "- copy - set of functions that allow the copying of elements like lists\n",
    "- random - generation of pseudo-random numbers"
   ]
  },
  {
   "cell_type": "code",
   "execution_count": 1,
   "metadata": {},
   "outputs": [
    {
     "name": "stdout",
     "output_type": "stream",
     "text": [
      "pygame 2.1.2 (SDL 2.0.18, Python 3.10.0)\n",
      "Hello from the pygame community. https://www.pygame.org/contribute.html\n"
     ]
    }
   ],
   "source": [
    "import pygame\n",
    "import time\n",
    "import copy\n",
    "import random"
   ]
  },
  {
   "cell_type": "markdown",
   "metadata": {},
   "source": [
    "- We begin the pygame library, set the maximum FPS to 15 frames per second, and set the window size to 600 pixels\n"
   ]
  },
  {
   "cell_type": "code",
   "execution_count": 2,
   "metadata": {},
   "outputs": [],
   "source": [
    "pygame.init()\n",
    "MAX_FPS = 15\n",
    "SIZE = 600"
   ]
  },
  {
   "cell_type": "markdown",
   "metadata": {},
   "source": [
    "- Now we need a class to save the game state. This class will contain info like the chosen board and its size (N), the square size (dynamic by the screen size), and the amount of moves played"
   ]
  },
  {
   "cell_type": "code",
   "execution_count": 3,
   "metadata": {},
   "outputs": [],
   "source": [
    "class gamestate:\n",
    "    N = 1\n",
    "    sq = SIZE / N\n",
    "    tabuleiro = []\n",
    "    nMovs = 1\n",
    "    vencedor = 0"
   ]
  },
  {
   "cell_type": "markdown",
   "metadata": {},
   "source": [
    "- We will save movement data ina class aswell, saving the X and Y of the initial square, the X and Y of the final square, the player who moved and the type of movement (Jump or Multiply)"
   ]
  },
  {
   "cell_type": "code",
   "execution_count": 4,
   "metadata": {},
   "outputs": [],
   "source": [
    "class movimento:\n",
    "    xi = 0\n",
    "    yi = 0\n",
    "    yf = 0\n",
    "    xf = 0\n",
    "    jog = 0\n",
    "    tipo = 0"
   ]
  }
 ],
 "metadata": {
  "interpreter": {
   "hash": "9f27538263f2b06562ba4c3e17832466b72ccd68c529f4ccd732119dafa958f1"
  },
  "kernelspec": {
   "display_name": "Python 3 (ipykernel)",
   "language": "python",
   "name": "python3"
  },
  "language_info": {
   "codemirror_mode": {
    "name": "ipython",
    "version": 3
   },
   "file_extension": ".py",
   "mimetype": "text/x-python",
   "name": "python",
   "nbconvert_exporter": "python",
   "pygments_lexer": "ipython3",
   "version": "3.10.0"
  }
 },
 "nbformat": 4,
 "nbformat_minor": 2
}
