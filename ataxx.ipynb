{
 "cells": [
  {
   "cell_type": "markdown",
   "metadata": {},
   "source": [
    "## Relatório do Projeto Ataxx ##"
   ]
  },
  {
   "cell_type": "markdown",
   "metadata": {},
   "source": [
    "### 18/03/21 ###\n",
    "\n",
    "***\n",
    "\n",
    "### Ata ###\n",
    "\n",
    "- Primeiro meeting de grupo para tomada de decisões quanto ao approach do projeto\n",
    "- Criação de um __[Trello](https://trello.com/b/xQCPqqou/attaxx-projeto)__ para organização dos passos a tomar no projeto\n",
    "- Início da __[pesquisa](https://docs.google.com/document/d/1fHmJtZjkOgVH6Xd6uIpjCX39uwu6PEftnRLfNoiGT4U)__ quanto aos seguintes tópicos:\n",
    "  - O que é Ataxx\n",
    "  - Regras do jogo\n",
    "  - Objetivos do trabalho\n",
    "- Início da programação do jogo base (python com a libraria pygame)\n",
    "\n",
    "***\n",
    "\n",
    "### Programação ###\n",
    "\n",
    "Até agora, foi-se programado o tabuleiro base, a colocação das peças (e blocos cinzentos)segundo uma matriz dentro de uma classe que guarda o estado do jogo, os eventos de fechar o jogo e de receber cliques do rato. Em desenvolvimento ficou a movimentação das peças segundo esses cliques.\n",
    "\n",
    "***\n"
   ]
  }
 ],
 "metadata": {
  "language_info": {
   "name": "python"
  },
  "orig_nbformat": 4
 },
 "nbformat": 4,
 "nbformat_minor": 2
}
