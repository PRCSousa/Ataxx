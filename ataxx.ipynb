{
 "cells": [
  {
   "cell_type": "markdown",
   "metadata": {},
   "source": [
    "# Ataxx\n",
    "A project developed by Inês Cardoso and Pedro Sousa"
   ]
  },
  {
   "attachments": {},
   "cell_type": "markdown",
   "metadata": {},
   "source": [
    "### Rules of the game:\n",
    "\n",
    "Each player begins with a set amount of pieces in the board, and can move 1 piece per turn.\n",
    "Moving can be done in 2 different ways:\n",
    "- Multiplying: When you move the piece to the adjacent squares, instead of moving it, you add another piece."
   ]
  },
  {
   "cell_type": "markdown",
   "metadata": {},
   "source": [
    "#### Libraries Used:\n",
    "\n",
    "- pygame - library designed to develop video games\n",
    "- time - used to create time intervals in the code\n",
    "- copy - set of functions that allow the copying of elements like lists\n",
    "- random - generation of pseudo-random numbers"
   ]
  },
  {
   "cell_type": "code",
   "execution_count": 1,
   "metadata": {},
   "outputs": [
    {
     "name": "stdout",
     "output_type": "stream",
     "text": [
      "pygame 2.1.2 (SDL 2.0.18, Python 3.10.0)\n",
      "Hello from the pygame community. https://www.pygame.org/contribute.html\n"
     ]
    }
   ],
   "source": [
    "import pygame\n",
    "import time\n",
    "import copy\n",
    "import random"
   ]
  },
  {
   "cell_type": "markdown",
   "metadata": {},
   "source": [
    "- We begin the pygame library, set the maximum FPS to 15 frames per second, and set the window size to 600 pixels\n"
   ]
  },
  {
   "cell_type": "code",
   "execution_count": 2,
   "metadata": {},
   "outputs": [],
   "source": [
    "pygame.init()\n",
    "MAX_FPS = 15\n",
    "SIZE = 600"
   ]
  },
  {
   "cell_type": "markdown",
   "metadata": {},
   "source": [
    "### Classes"
   ]
  },
  {
   "cell_type": "markdown",
   "metadata": {},
   "source": [
    "- Now we need a class to save the game state. This class will contain info like the chosen board and its size (N), the square size (dynamic by the screen size), and the amount of moves played"
   ]
  },
  {
   "cell_type": "code",
   "execution_count": 3,
   "metadata": {},
   "outputs": [],
   "source": [
    "class gamestate:\n",
    "    N = 1\n",
    "    sq = SIZE / N\n",
    "    tabuleiro = []\n",
    "    nMovs = 1\n",
    "    vencedor = 0"
   ]
  },
  {
   "cell_type": "markdown",
   "metadata": {},
   "source": [
    "- We will save movement data ina class aswell, saving the X and Y of the initial square, the X and Y of the final square, the player who moved and the type of movement (Jump or Multiply)"
   ]
  },
  {
   "cell_type": "code",
   "execution_count": 4,
   "metadata": {},
   "outputs": [],
   "source": [
    "class movimento:\n",
    "    xi = 0\n",
    "    yi = 0\n",
    "    yf = 0\n",
    "    xf = 0\n",
    "    jog = 0\n",
    "    tipo = 0"
   ]
  },
  {
   "cell_type": "markdown",
   "metadata": {},
   "source": [
    "- This class is a temporary data saver, which saves the best move possible by the computer"
   ]
  },
  {
   "cell_type": "code",
   "execution_count": null,
   "metadata": {},
   "outputs": [],
   "source": [
    "class bestmov:\n",
    "    xi = 0\n",
    "    yi = 0\n",
    "    yf = 0\n",
    "    xf = 0"
   ]
  },
  {
   "cell_type": "markdown",
   "metadata": {},
   "source": [
    "- This class solely saves the game before the computer move, so it can restore it after every try"
   ]
  },
  {
   "cell_type": "code",
   "execution_count": null,
   "metadata": {},
   "outputs": [],
   "source": [
    "class save:\n",
    "    game = []"
   ]
  },
  {
   "cell_type": "markdown",
   "metadata": {},
   "source": [
    "- This function reads the chosen board by the player\n"
   ]
  },
  {
   "cell_type": "code",
   "execution_count": null,
   "metadata": {},
   "outputs": [],
   "source": [
    "def escolhetabul():\n",
    "    print(\"Tabuleiros:\")\n",
    "    print(\"1) Original\")\n",
    "    print(\"2) Sem paredes\")\n",
    "    print(\"3) Circular\")\n",
    "    print(\"4) Coração\")\n",
    "    print(\"5) Alvo\")\n",
    "    print(\"6) Xadrez\")\n",
    "    print(\"7) Foxy\")\n",
    "    numtabul = input()\n",
    "    tabuleiro = \"tabuleiros/tab\"+numtabul+\".txt\"\n",
    "    return tabuleiro"
   ]
  },
  {
   "cell_type": "markdown",
   "metadata": {},
   "source": [
    "- After the player has chosen the board this function loads it into the gamestate class"
   ]
  },
  {
   "cell_type": "code",
   "execution_count": null,
   "metadata": {},
   "outputs": [],
   "source": [
    "def letabul(ficheiro):\n",
    "    f = open(ficheiro)\n",
    "    gamestate.N = int(f.readline())\n",
    "    gamestate.sq = SIZE / gamestate.N\n",
    "    tabuleiro = []\n",
    "    for i in range(gamestate.N):\n",
    "        tabuleiro.append(list(map(int, f.readline().split())))\n",
    "    f.close()\n",
    "    gamestate.tabuleiro = tabuleiro"
   ]
  },
  {
   "cell_type": "markdown",
   "metadata": {},
   "source": [
    "- These next 2 functions save the gamestate and restores it when called, respectively"
   ]
  },
  {
   "cell_type": "code",
   "execution_count": null,
   "metadata": {},
   "outputs": [],
   "source": [
    "def copia():\n",
    "    save.game = copy.deepcopy(gamestate.tabuleiro)\n",
    "\n",
    "\n",
    "def restaura():\n",
    "    gamestate.tabuleiro = save.game"
   ]
  },
  {
   "cell_type": "markdown",
   "metadata": {},
   "source": [
    "- This function changes the player turn"
   ]
  },
  {
   "cell_type": "code",
   "execution_count": null,
   "metadata": {},
   "outputs": [],
   "source": [
    "def outroJog(jog):\n",
    "    if jog == 1:\n",
    "        return 2\n",
    "    else:\n",
    "        return 1\n"
   ]
  },
  {
   "cell_type": "markdown",
   "metadata": {},
   "source": [
    "- For each valid square, said square is selected by creating 4 small circles inside it, in the corners"
   ]
  },
  {
   "cell_type": "code",
   "execution_count": null,
   "metadata": {},
   "outputs": [],
   "source": [
    "def assinala_quad(x, y, screen):\n",
    "    if movimento.jog == 1:\n",
    "        color = pygame.Color(220, 20, 60)\n",
    "    else:\n",
    "        color = pygame.Color(106, 90, 205)\n",
    "    pygame.draw.ellipse(\n",
    "        screen, color, (y*gamestate.sq+3, x*gamestate.sq+3, 6, 6))\n",
    "    pygame.draw.ellipse(screen, color, (y*gamestate.sq +\n",
    "                        gamestate.sq-11, x*gamestate.sq+3, 6, 6))\n",
    "    pygame.draw.ellipse(screen, color, (y*gamestate.sq+3,\n",
    "                        x*gamestate.sq+gamestate.sq-11, 6, 6))\n",
    "    pygame.draw.ellipse(screen, color, (y*gamestate.sq +\n",
    "                        gamestate.sq-11, x*gamestate.sq+gamestate.sq-11, 6, 6))"
   ]
  },
  {
   "cell_type": "markdown",
   "metadata": {},
   "source": [
    "- When called, updates the board in the UI"
   ]
  },
  {
   "cell_type": "code",
   "execution_count": null,
   "metadata": {},
   "outputs": [],
   "source": [
    "def mostra_tabul(screen):\n",
    "    for r in range(gamestate.N):\n",
    "        for c in range(gamestate.N):\n",
    "            color = pygame.Color(255, 255, 255)\n",
    "            pygame.draw.rect(screen, color, pygame.Rect(\n",
    "                c * gamestate.sq, r * gamestate.sq, gamestate.sq - 2, gamestate.sq - 2))\n",
    "            if gamestate.tabuleiro[r][c] == 8:\n",
    "                pygame.draw.rect(screen, (128, 128, 128),\n",
    "                                 (c * gamestate.sq, r * gamestate.sq, gamestate.sq - 2, gamestate.sq - 2))\n",
    "            if gamestate.tabuleiro[r][c] == 1:\n",
    "                pygame.draw.ellipse(screen, (220, 20, 60), pygame.Rect(\n",
    "                    c * gamestate.sq + (gamestate.sq / 4), r * gamestate.sq + (gamestate.sq / 4), gamestate.sq / 2, gamestate.sq / 2))\n",
    "            elif gamestate.tabuleiro[r][c] == 2:\n",
    "                pygame.draw.ellipse(screen, (106, 90, 205), pygame.Rect(\n",
    "                    c * gamestate.sq + (gamestate.sq / 4), r * gamestate.sq + (gamestate.sq / 4), gamestate.sq / 2, gamestate.sq / 2))"
   ]
  },
  {
   "cell_type": "markdown",
   "metadata": {},
   "source": [
    "- This function deals with taking of the opponent pieces, after a movement is done, any adjacent pieces are swapped\n",
    "    Note: Every if in the try...except is to stop taking from across the board because tabuleiro[-1] = tabuleiro[N]\n",
    "\n"
   ]
  },
  {
   "cell_type": "code",
   "execution_count": null,
   "metadata": {},
   "outputs": [],
   "source": [
    "def comer():\n",
    "    dx = -1\n",
    "    dy = -1\n",
    "    for dx in range(dx, 2):\n",
    "        for dy in range(dy, 2):\n",
    "            try:\n",
    "                if movimento.yf + dy == -1 and movimento.xf + dx == -1:\n",
    "                    if gamestate.tabuleiro[0][0] == outroJog(movimento.jog):\n",
    "                        gamestate.tabuleiro[movimento.yf + dy +\n",
    "                                            1][movimento.xf + dx+1] = movimento.jog\n",
    "                elif movimento.yf + dy == -1:\n",
    "                    if gamestate.tabuleiro[0][movimento.xf + dx] == outroJog(movimento.jog):\n",
    "                        gamestate.tabuleiro[movimento.yf + dy +\n",
    "                                            1][movimento.xf + dx] = movimento.jog\n",
    "                elif movimento.xf + dx == -1:\n",
    "                    if gamestate.tabuleiro[movimento.yf + dy][0] == outroJog(movimento.jog):\n",
    "                        gamestate.tabuleiro[movimento.yf + dy][movimento.xf +\n",
    "                                                               dx+1] = movimento.jog\n",
    "\n",
    "                elif gamestate.tabuleiro[movimento.yf + dy][movimento.xf + dx] == outroJog(movimento.jog):\n",
    "                    gamestate.tabuleiro[movimento.yf +\n",
    "                                        dy][movimento.xf + dx] = movimento.jog\n",
    "            except IndexError:\n",
    "                pass\n",
    "        dy = -1"
   ]
  },
  {
   "cell_type": "markdown",
   "metadata": {},
   "source": [
    "- This function simply executes the movement, if the movement type is jumping,\n",
    "it also removes the piece from its old location, and then checks for piece taking\n"
   ]
  },
  {
   "cell_type": "code",
   "execution_count": null,
   "metadata": {},
   "outputs": [],
   "source": [
    "def executa_movimento():\n",
    "    gamestate.tabuleiro[movimento.yf][movimento.xf] = movimento.jog\n",
    "    if movimento.tipo == 1:\n",
    "        gamestate.tabuleiro[movimento.yi][movimento.xi] = 0\n",
    "    comer()"
   ]
  },
  {
   "cell_type": "markdown",
   "metadata": {},
   "source": [
    "- Evaluation function, the computer decides it move by the heuristic placed here\n"
   ]
  },
  {
   "cell_type": "code",
   "execution_count": null,
   "metadata": {},
   "outputs": [],
   "source": [
    "def avalia():\n",
    "    salt = random.random()\n",
    "    return (conta_pecas(movimento.jog) - conta_pecas(outroJog(movimento.jog))+salt)\n"
   ]
  },
  {
   "cell_type": "markdown",
   "metadata": {},
   "source": [
    "- Checks if the movement choice is either a jump or a multiplication"
   ]
  },
  {
   "cell_type": "code",
   "execution_count": null,
   "metadata": {},
   "outputs": [],
   "source": [
    "def adjacente(dist):\n",
    "    return(\n",
    "        abs(movimento.xi - movimento.xf) == dist and abs(movimento.yi - movimento.yf) <= dist or\n",
    "        abs(movimento.yi - movimento.yf) == dist and abs(movimento.xi - movimento.xf) <= dist)\n"
   ]
  },
  {
   "cell_type": "markdown",
   "metadata": {},
   "source": [
    "- Checks if the move is inside the board limits"
   ]
  },
  {
   "cell_type": "code",
   "execution_count": null,
   "metadata": {},
   "outputs": [],
   "source": [
    "def dentro(x, y):\n",
    "    return (x >= 0 and x <= gamestate.N-1 and y >= 0 and y <= gamestate.N-1)\n"
   ]
  },
  {
   "cell_type": "markdown",
   "metadata": {},
   "source": [
    "- Using the last 2 functions, this one checks if the move is totally valid\n",
    "Note: the first if removes the L like movement"
   ]
  },
  {
   "cell_type": "code",
   "execution_count": null,
   "metadata": {},
   "outputs": [],
   "source": [
    "def movimento_valido():\n",
    "    if abs(movimento.yf - movimento.yi) == 2 and abs(movimento.xf - movimento.xi) == 1 or abs(movimento.xf - movimento.xi) == 2 and abs(movimento.yf - movimento.yi) == 1:\n",
    "        return False\n",
    "    if not dentro(movimento.xi, movimento.yi) or not dentro(movimento.xf, movimento.yf):\n",
    "        return False\n",
    "    if gamestate.tabuleiro[movimento.yi][movimento.xi] == movimento.jog and gamestate.tabuleiro[movimento.yf][movimento.xf] == 0 and adjacente(1):\n",
    "        movimento.tipo = 0\n",
    "        return True\n",
    "    if gamestate.tabuleiro[movimento.yi][movimento.xi] == movimento.jog and gamestate.tabuleiro[movimento.yf][movimento.xf] == 0 and adjacente(2):\n",
    "        movimento.tipo = 1\n",
    "        return True\n"
   ]
  },
  {
   "cell_type": "markdown",
   "metadata": {},
   "source": [
    "- This function takes an input for the type of game the player wants to play"
   ]
  },
  {
   "cell_type": "code",
   "execution_count": null,
   "metadata": {},
   "outputs": [],
   "source": [
    "def tipo_jogo():\n",
    "    print(\"Jogo de Ataxx\")\n",
    "    print(\"Escolha o modo de jogo:\")\n",
    "    print(\"1 - Humano vs. Humano \")\n",
    "    print(\"2 - Humano vs. Computador \")\n",
    "    print(\"3 - Computador vs. Computador \")\n",
    "    tipo = input()\n",
    "    return tipo"
   ]
  },
  {
   "cell_type": "markdown",
   "metadata": {},
   "source": [
    "- This function takes the square we clicked and, if it has a piece we can move,\n",
    "it checks all the possible moves and selects them\n"
   ]
  },
  {
   "cell_type": "code",
   "execution_count": null,
   "metadata": {},
   "outputs": [],
   "source": [
    "def jogadas_validas_pos(jog, yi, xi, screen):\n",
    "    if gamestate.tabuleiro[yi][xi] == jog:\n",
    "        for k in range(gamestate.N):\n",
    "            for l in range(gamestate.N):\n",
    "                movimento.jog = jog\n",
    "                movimento.yi = yi\n",
    "                movimento.xi = xi\n",
    "                movimento.yf = k\n",
    "                movimento.xf = l\n",
    "                if movimento_valido():\n",
    "                    assinala_quad(k, l, screen)\n"
   ]
  },
  {
   "cell_type": "markdown",
   "metadata": {},
   "source": [
    "- Checks the amount of valid moves a player has"
   ]
  },
  {
   "cell_type": "code",
   "execution_count": null,
   "metadata": {},
   "outputs": [],
   "source": [
    "def jogadas_validas_total(jog):\n",
    "    nmovs = 0\n",
    "    for y in range(gamestate.N):\n",
    "        for x in range(gamestate.N):\n",
    "            if gamestate.tabuleiro[y][x] == jog:\n",
    "                for k in range(gamestate.N):\n",
    "                    for l in range(gamestate.N):\n",
    "                        movimento.jog = jog\n",
    "                        movimento.yi = y\n",
    "                        movimento.xi = x\n",
    "                        movimento.yf = k\n",
    "                        movimento.xf = l\n",
    "                        if movimento_valido():\n",
    "                            nmovs += 1\n",
    "    return nmovs"
   ]
  },
  {
   "cell_type": "markdown",
   "metadata": {},
   "source": [
    "- Function that counts the amount of pieces the called player has"
   ]
  },
  {
   "cell_type": "code",
   "execution_count": null,
   "metadata": {},
   "outputs": [],
   "source": [
    "def conta_pecas(jog):\n",
    "    pecas = 0\n",
    "    for i in range(gamestate.N):\n",
    "        for j in range(gamestate.N):\n",
    "            if gamestate.tabuleiro[i][j] == jog:\n",
    "                pecas += 1\n",
    "    return pecas"
   ]
  },
  {
   "cell_type": "markdown",
   "metadata": {},
   "source": [
    "- Function that returns the amount of empty squares"
   ]
  },
  {
   "cell_type": "code",
   "execution_count": null,
   "metadata": {},
   "outputs": [],
   "source": [
    "def quad_validos():\n",
    "    nmovs = 0\n",
    "    for i in range(gamestate.N):\n",
    "        for j in range(gamestate.N):\n",
    "            if gamestate.tabuleiro[i][j] == 0:\n",
    "                nmovs += 1\n",
    "    return nmovs"
   ]
  },
  {
   "cell_type": "markdown",
   "metadata": {},
   "source": [
    "-  Checks if the game has reached its end conditions, depending on which one it is,\n",
    "    it set the winner as one of the players or as a draw\n",
    "\n"
   ]
  },
  {
   "cell_type": "code",
   "execution_count": null,
   "metadata": {},
   "outputs": [],
   "source": [
    "def fim_jogo():\n",
    "    n = quad_validos()\n",
    "    if conta_pecas(1) == 0 or conta_pecas(2) == 0:\n",
    "        if conta_pecas(1) == 0:\n",
    "            gamestate.vencedor = 2\n",
    "            return -1\n",
    "        else:\n",
    "            gamestate.vencedor = 1\n",
    "            return -1\n",
    "    if n == 0:\n",
    "        if (conta_pecas(1) - conta_pecas(2) >= 0):\n",
    "            gamestate.vencedor = 1\n",
    "            return -1\n",
    "        if (conta_pecas(1) - conta_pecas(2) < 0):\n",
    "            gamestate.vencedor = 2\n",
    "            return -1\n",
    "        else:\n",
    "            gamestate.vencedor = 0\n",
    "            return -1\n",
    "    else:\n",
    "        return 0"
   ]
  },
  {
   "cell_type": "markdown",
   "metadata": {},
   "source": [
    "- If one of the ending conditions has been reached, it prints who won"
   ]
  },
  {
   "cell_type": "code",
   "execution_count": null,
   "metadata": {},
   "outputs": [],
   "source": [
    "def finaliza(tipo, fim):\n",
    "    if gamestate.vencedor != 0:\n",
    "        if gamestate.vencedor == 1:\n",
    "            print(\"Jogador vermelho ganha !\")\n",
    "        else:\n",
    "            print(\"Jogador azul ganha !\")\n",
    "    else:\n",
    "        print(\"Empate!\")\n"
   ]
  },
  {
   "cell_type": "markdown",
   "metadata": {},
   "source": [
    "- Manages the human player movement by:\n",
    "  If it has no valid moves, it skips the player's turn\n",
    "  Seeing if it is the first or the second click, and saving it as the initial coords or final coords, respectively\n",
    "  Selecting the clicked piece and all the valid moves\n"
   ]
  },
  {
   "cell_type": "code",
   "execution_count": null,
   "metadata": {},
   "outputs": [],
   "source": [
    "def jogada_Humano(cl, px, py, screen):\n",
    "    # Currently Not working\n",
    "    # if jogadas_validas_total(movimento.jog) == 0:\n",
    "    #     gamestate.nMovs += 1\n",
    "    #     return\n",
    "    if cl == 0 and gamestate.tabuleiro[py][px] == movimento.jog:\n",
    "        movimento.xi = px\n",
    "        movimento.yi = py\n",
    "        assinala_quad(py, px, screen)\n",
    "        jogadas_validas_pos(movimento.jog, py, px, screen)\n",
    "    elif cl == 1:\n",
    "        movimento.xf = px\n",
    "        movimento.yf = py"
   ]
  },
  {
   "cell_type": "markdown",
   "metadata": {},
   "source": [
    "- Manages the computer made movements:\n",
    "  For each piece it has, it tries every possivle move, by doing it, evaluating it, and restoring the game to before the move\n",
    "  for each evaluation, it saves the movement with the best evaluation score and then, after every move has been played\n",
    "  it does said best move"
   ]
  },
  {
   "cell_type": "code",
   "execution_count": null,
   "metadata": {},
   "outputs": [],
   "source": [
    "def jogada_PC():\n",
    "    # Currently Not working\n",
    "    # if jogadas_validas_total(movimento.jog) == 0:\n",
    "    #     gamestate.nMovs += 1\n",
    "    #     return\n",
    "    bestav = -1000\n",
    "    for yi in range(gamestate.N):\n",
    "        for xi in range(gamestate.N):\n",
    "            if gamestate.tabuleiro[yi][xi] == movimento.jog:\n",
    "                for k in range(0, gamestate.N):\n",
    "                    for l in range(0, gamestate.N):\n",
    "                        movimento.yi = yi\n",
    "                        movimento.xi = xi\n",
    "                        movimento.yf = l\n",
    "                        movimento.xf = k\n",
    "                        if movimento_valido():\n",
    "                            copia()\n",
    "                            executa_movimento()\n",
    "                            av = avalia()\n",
    "                            restaura()\n",
    "                            if av >= bestav:\n",
    "                                bestav = av\n",
    "                                bestmov.yi = movimento.yi\n",
    "                                bestmov.xi = movimento.xi\n",
    "                                bestmov.yf = movimento.yf\n",
    "                                bestmov.xf = movimento.xf\n",
    "    movimento.yi = bestmov.yi\n",
    "    movimento.xi = bestmov.xi\n",
    "    movimento.yf = bestmov.yf\n",
    "    movimento.xf = bestmov.xf\n",
    "    if movimento_valido():\n",
    "        executa_movimento()"
   ]
  },
  {
   "cell_type": "markdown",
   "metadata": {},
   "source": [
    "- Main function, executes:\n",
    "   The type and board selection functions,\n",
    "   Generates the window and the board,\n",
    "   Begins the loop that sets the game playing."
   ]
  },
  {
   "cell_type": "code",
   "execution_count": null,
   "metadata": {},
   "outputs": [],
   "source": [
    "def main():\n",
    "    cl = 0\n",
    "    fim = 0\n",
    "    movimento.jog = 1\n",
    "    tipo = int(tipo_jogo())\n",
    "    tabuleiro = escolhetabul()\n",
    "    letabul(tabuleiro)\n",
    "    screen = pygame.display.set_mode((SIZE, SIZE))\n",
    "    clock = pygame.time.Clock()\n",
    "    screen.fill((0, 0, 0))\n",
    "    mostra_tabul(screen)\n",
    "    clock.tick(30)\n",
    "    pygame.display.flip()\n",
    "    running = True"
   ]
  },
  {
   "cell_type": "markdown",
   "metadata": {},
   "source": [
    "- While the game plays, it checks for events:\n",
    "  If the X is pressed, the game exits\n",
    "  If a click is made, it begins a chain of events explained next"
   ]
  },
  {
   "cell_type": "code",
   "execution_count": null,
   "metadata": {},
   "outputs": [],
   "source": [
    "\n",
    "    while running:\n",
    "\n",
    "        for e in pygame.event.get():\n",
    "            if e.type == pygame.QUIT:\n",
    "                pygame.quit()\n",
    "                time.sleep(2)\n",
    "                running = False\n",
    "\n",
    "            elif e.type == pygame.MOUSEBUTTONDOWN:\n",
    "\n",
    "                # Firstly, we save the pixel coordenates of the click and convert them into square coordenates\n",
    "\n",
    "                click = pygame.mouse.get_pos()\n",
    "                yi = int(click[1] // gamestate.sq)\n",
    "                xi = int(click[0] // gamestate.sq)\n",
    "\n",
    "                # Then, for each move, it checks if it is odd and even, transalting if it is the 1st player or the 2nd\n",
    "\n",
    "                if gamestate.nMovs % 2 == 1:\n",
    "\n",
    "                    # Depending on the game type, we need to change the mouse input handling\n",
    "                    # Type 1 and 2 on the first click: Human play\n",
    "                    # Tipe 3 on the first and second click: PC Play\n",
    "                    # Type 1 second click: Human Play\n",
    "                    # Type 2 second click: PC Play\n",
    "\n",
    "                    if tipo <= 2:\n",
    "                        if cl == 0:\n",
    "                            jogada_Humano(cl, xi, yi, screen)\n",
    "                            cl = 1\n",
    "                        elif cl == 1:\n",
    "                            jogada_Humano(cl, xi, yi, screen)\n",
    "                            cl = 0\n",
    "                            if movimento_valido():\n",
    "                                executa_movimento()\n",
    "\n",
    "                                # After a move is made, we increase the number of plays made, changing the player\n",
    "\n",
    "                                gamestate.nMovs += 1\n",
    "                                movimento.jog = outroJog(movimento.jog)\n",
    "\n",
    "                                # After each move, we update the screen with the updated board state\n",
    "\n",
    "                            mostra_tabul(screen)\n",
    "                else:\n",
    "                    if tipo == 1:\n",
    "                        if cl == 0:\n",
    "                            jogada_Humano(cl, xi, yi, screen)\n",
    "                            cl = 1\n",
    "                        elif cl == 1:\n",
    "                            jogada_Humano(cl, xi, yi, screen)\n",
    "                            cl = 0\n",
    "                            if movimento_valido():\n",
    "                                executa_movimento()\n",
    "                                gamestate.nMovs += 1\n",
    "                                movimento.jog = outroJog(movimento.jog)\n",
    "                            mostra_tabul(screen)\n",
    "            pygame.display.flip()\n",
    "        # Computer's turn\n",
    "\n",
    "        if gamestate.nMovs % 2 != 1 and tipo >= 2:\n",
    "            jogada_PC()\n",
    "            gamestate.nMovs += 1\n",
    "            mostra_tabul(screen)\n",
    "            movimento.jog = outroJog(movimento.jog)\n",
    "            time.sleep(1)\n",
    "            pygame.display.flip()\n",
    "        if tipo == 3:\n",
    "            jogada_PC()\n",
    "            gamestate.nMovs += 1\n",
    "            mostra_tabul(screen)\n",
    "            movimento.jog = outroJog(movimento.jog)\n",
    "            time.sleep(1)\n",
    "            pygame.display.flip()\n",
    "\n",
    "        try:\n",
    "            pygame.display.flip()\n",
    "        except pygame.error:\n",
    "            pass\n",
    "\n",
    "        # It constatnly checks if the game has reached any end condition, and if it has, it finalizes it\n",
    "\n",
    "        fim = fim_jogo()\n",
    "        if fim == -1:\n",
    "            print(\"Jogador Vermelho:\", conta_pecas(1))\n",
    "            print(\"Jogador Azul:\", conta_pecas(2))\n",
    "            finaliza(tipo, fim)\n",
    "            time.sleep(3)\n",
    "            pygame.quit()\n",
    "            running = False\n"
   ]
  }
 ],
 "metadata": {
  "interpreter": {
   "hash": "9f27538263f2b06562ba4c3e17832466b72ccd68c529f4ccd732119dafa958f1"
  },
  "kernelspec": {
   "display_name": "Python 3 (ipykernel)",
   "language": "python",
   "name": "python3"
  },
  "language_info": {
   "codemirror_mode": {
    "name": "ipython",
    "version": 3
   },
   "file_extension": ".py",
   "mimetype": "text/x-python",
   "name": "python",
   "nbconvert_exporter": "python",
   "pygments_lexer": "ipython3",
   "version": "3.10.0"
  }
 },
 "nbformat": 4,
 "nbformat_minor": 2
}
