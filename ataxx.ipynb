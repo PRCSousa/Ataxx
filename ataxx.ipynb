{
 "cells": [
  {
   "cell_type": "markdown",
   "metadata": {},
   "source": [
    "# Ataxx\n",
    "A project developed by Inês Cardoso and Pedro Sousa"
   ]
  },
  {
   "attachments": {},
   "cell_type": "markdown",
   "metadata": {},
   "source": [
    "### Rules of the game:\n",
    "\n",
    "Each player begins with a set amount of pieces in the board, and can move 1 piece per turn.\n",
    "Moving can be done in 2 different ways:\n",
    "- Multiplying: When you move the piece to the adjacent squares, instead of moving it, you add another piece.\n",
    "- Jumping: Then the move is done by moving 2 squares, it instead jumps the selected piece to the final location.\n",
    "<br>\n",
    "<br>\n",
    "After each move, every opponent piece in the adjacent squares are converted to pieces of your own.\n",
    "<br>\n",
    "<br>\n",
    "If a player has no legal moves, his turn is skipped until any legal move is possible.\n",
    "<br>\n",
    "<br>\n",
    "The game is over if the board is filled (meaning the player with most pieces wins), or if one player loses all his pieces, making the other player the winner. \n"
   ]
  },
  {
   "cell_type": "markdown",
   "metadata": {},
   "source": [
    "#### Libraries Used:\n",
    "\n",
    "- numpy - from numpy, we just imported the 'unsignedinterger' to create a integer without value\n",
    "- pygame - library designed to develop video games\n",
    "- time - used to create time intervals in the code\n",
    "- copy - set of functions that allow the copying of elements like lists\n",
    "- random - generation of pseudo-random numbers"
   ]
  },
  {
   "cell_type": "code",
   "execution_count": 1,
   "metadata": {},
   "outputs": [
    {
     "name": "stdout",
     "output_type": "stream",
     "text": [
      "pygame 2.1.2 (SDL 2.0.18, Python 3.10.0)\n",
      "Hello from the pygame community. https://www.pygame.org/contribute.html\n"
     ]
    }
   ],
   "source": [
    "from numpy import unsignedinteger\n",
    "import pygame\n",
    "import time\n",
    "import copy\n",
    "import random"
   ]
  },
  {
   "cell_type": "markdown",
   "metadata": {},
   "source": [
    "- We begin the pygame library, set the maximum FPS to 15 frames per second, and set the window size to 600 pixels\n"
   ]
  },
  {
   "cell_type": "code",
   "execution_count": 2,
   "metadata": {},
   "outputs": [],
   "source": [
    "pygame.init()\n",
    "MAX_FPS = 15\n",
    "SIZE = 600"
   ]
  },
  {
   "cell_type": "markdown",
   "metadata": {},
   "source": [
    "### Classes"
   ]
  },
  {
   "cell_type": "markdown",
   "metadata": {},
   "source": [
    "- Now we need a class to save the game state. This class will contain info like: \n",
    "    - the chosen board and its size (N)\n",
    "    - the square size (dynamic by the screen size over the amount of squares of the board)\n",
    "    - the number of moves played\n",
    "    - the type of the game (if it is Human x Human, Human x PC or PC x PC), and, if any of the types involving the PC is chosen, the AI algorithm it'll have\n",
    "    - the recursivity depth (if the minmax algorithm is chosen)\n",
    "    - The winner"
   ]
  },
  {
   "cell_type": "code",
   "execution_count": 3,
   "metadata": {},
   "outputs": [],
   "source": [
    "class gamestate:\n",
    "    N = unsignedinteger\n",
    "    sq = unsignedinteger\n",
    "    tabuleiro = []\n",
    "    tipo = unsignedinteger\n",
    "    ai1diff = unsignedinteger\n",
    "    ai2diff = unsignedinteger\n",
    "    rec = 0\n",
    "    nMovs = 1\n",
    "    vencedor = 0"
   ]
  },
  {
   "cell_type": "markdown",
   "metadata": {},
   "source": [
    "- We will save movement data in a class aswell, saving the X and Y of the initial square, the X and Y of the final square, the player who moved and the type of movement (Jump or Multiply)"
   ]
  },
  {
   "cell_type": "code",
   "execution_count": 4,
   "metadata": {},
   "outputs": [],
   "source": [
    "class movimento:\n",
    "    xi = 0\n",
    "    yi = 0\n",
    "    yf = 0\n",
    "    xf = 0\n",
    "    jog = 0\n",
    "    tipo = 0"
   ]
  },
  {
   "cell_type": "markdown",
   "metadata": {},
   "source": [
    "- These classes sre temporary data savers:\n",
    "    - The first one is used just to test if said move is possible\n",
    "    - The second one saves the best move the computer can play\n",
    "    - The minmaxmov its just used to save the movement in every node of the minmax tree"
   ]
  },
  {
   "cell_type": "code",
   "execution_count": 5,
   "metadata": {},
   "outputs": [],
   "source": [
    "class totalmov:\n",
    "    xi = 0\n",
    "    yi = 0\n",
    "    yf = 0\n",
    "    xf = 0\n",
    "    \n",
    "class bestmov:\n",
    "    xi = 0\n",
    "    yi = 0\n",
    "    yf = 0\n",
    "    xf = 0\n",
    "\n",
    "class minmaxmov():\n",
    "    xi = 0\n",
    "    yi = 0\n",
    "    yf = 0\n",
    "    xf = 0\n",
    "    min = 0\n",
    "    max = 0"
   ]
  },
  {
   "cell_type": "markdown",
   "metadata": {},
   "source": [
    "- This class solely saves the game before the computer move, so it can restore it after every try"
   ]
  },
  {
   "cell_type": "code",
   "execution_count": 6,
   "metadata": {},
   "outputs": [],
   "source": [
    "class save:\n",
    "    game = []"
   ]
  },
  {
   "cell_type": "markdown",
   "metadata": {},
   "source": [
    "### Functions"
   ]
  },
  {
   "cell_type": "markdown",
   "metadata": {},
   "source": [
    "- This function reads the chosen board by the player\n"
   ]
  },
  {
   "cell_type": "code",
   "execution_count": 7,
   "metadata": {},
   "outputs": [],
   "source": [
    "def escolhe_tabul():\n",
    "    print(\"Tabuleiros:\")\n",
    "    print(\"1) Original\")\n",
    "    print(\"2) Sem paredes\")\n",
    "    print(\"3) Circular\")\n",
    "    print(\"4) Coração\")\n",
    "    print(\"5) Alvo\")\n",
    "    print(\"6) Xadrez\")\n",
    "    print(\"7) Foxy\")\n",
    "    print(\"8) 5x5\")\n",
    "    print(\"9) 6x6\")\n",
    "    numtabul = input()\n",
    "    tabuleiro = \"tabuleiros/tab\"+numtabul+\".txt\"\n",
    "    return tabuleiro"
   ]
  },
  {
   "cell_type": "markdown",
   "metadata": {},
   "source": [
    "- After the player has chosen the board this function loads it into the gamestate class"
   ]
  },
  {
   "cell_type": "code",
   "execution_count": 8,
   "metadata": {},
   "outputs": [],
   "source": [
    "def carrega_tabul(ficheiro):\n",
    "    f = open(ficheiro)\n",
    "    gamestate.N = int(f.readline())\n",
    "    gamestate.sq = SIZE / gamestate.N\n",
    "    tabuleiro = []\n",
    "    for i in range(gamestate.N):\n",
    "        tabuleiro.append(list(map(int, f.readline().split())))\n",
    "    f.close()\n",
    "    gamestate.tabuleiro = tabuleiro"
   ]
  },
  {
   "cell_type": "markdown",
   "metadata": {},
   "source": [
    "- When this function is called, we are prompted to choose the difficulty of the AI when it is the Human x PC game mode, or, if we chose to see a PC x PC game, which AI's will be playing."
   ]
  },
  {
   "cell_type": "code",
   "execution_count": 9,
   "metadata": {},
   "outputs": [],
   "source": [
    "def dificuldade():\n",
    "    if gamestate.tipo == 1:\n",
    "        return\n",
    "    elif gamestate.tipo == 2:\n",
    "        print(\"Dificuldade:\")\n",
    "        print(\"1) Fácil (Random)\")\n",
    "        print(\"2) Médio (Greedy)\")\n",
    "        print(\"3) Difícil (Center)\")\n",
    "        gamestate.ai2diff = input()\n",
    "        return\n",
    "    else:\n",
    "        print(\"Algoritmo da AI 1:\")\n",
    "        print(\"1) Random\")\n",
    "        print(\"2) Greedy\")\n",
    "        print(\"3) Center Control\")\n",
    "        print(\"4) Minmax\")\n",
    "        gamestate.ai1diff = int(input())\n",
    "        print(\"Algoritmo da AI 2:\")\n",
    "        print(\"1) Random\")\n",
    "        print(\"2) Greedy\")\n",
    "        print(\"3) Center Control\")\n",
    "        print(\"4) Minmax\")\n",
    "        gamestate.ai2diff = int(input())\n",
    "        return"
   ]
  },
  {
   "cell_type": "markdown",
   "metadata": {},
   "source": [
    "- These next 2 functions save the gamestate and restores it when called, respectively"
   ]
  },
  {
   "cell_type": "code",
   "execution_count": 10,
   "metadata": {},
   "outputs": [],
   "source": [
    "def copia():\n",
    "    save.game = copy.deepcopy(gamestate.tabuleiro)\n",
    "\n",
    "\n",
    "def restaura():\n",
    "    gamestate.tabuleiro = save.game"
   ]
  },
  {
   "cell_type": "markdown",
   "metadata": {},
   "source": [
    "- This function changes the player turn"
   ]
  },
  {
   "cell_type": "code",
   "execution_count": 11,
   "metadata": {},
   "outputs": [],
   "source": [
    "def troca_jog(jog):\n",
    "    if jog == 1:\n",
    "        return 2\n",
    "    else:\n",
    "        return 1"
   ]
  },
  {
   "cell_type": "markdown",
   "metadata": {},
   "source": [
    "- For each valid square, said square is selected by creating 4 small circles inside it, in the corners"
   ]
  },
  {
   "cell_type": "code",
   "execution_count": 12,
   "metadata": {},
   "outputs": [],
   "source": [
    "def assinala_quad(x, y, screen):\n",
    "    if movimento.jog == 1:\n",
    "        color = pygame.Color(220, 20, 60)\n",
    "    else:\n",
    "        color = pygame.Color(106, 90, 205)\n",
    "    pygame.draw.ellipse(\n",
    "        screen, color, (y*gamestate.sq+3, x*gamestate.sq+3, 6, 6))\n",
    "    pygame.draw.ellipse(screen, color, (y*gamestate.sq +\n",
    "                        gamestate.sq-11, x*gamestate.sq+3, 6, 6))\n",
    "    pygame.draw.ellipse(screen, color, (y*gamestate.sq+3,\n",
    "                        x*gamestate.sq+gamestate.sq-11, 6, 6))\n",
    "    pygame.draw.ellipse(screen, color, (y*gamestate.sq +\n",
    "                        gamestate.sq-11, x*gamestate.sq+gamestate.sq-11, 6, 6))"
   ]
  },
  {
   "cell_type": "markdown",
   "metadata": {},
   "source": [
    "- When called, updates the board in the UI"
   ]
  },
  {
   "cell_type": "code",
   "execution_count": 13,
   "metadata": {},
   "outputs": [],
   "source": [
    "def mostra_tabul(screen):\n",
    "    for r in range(gamestate.N):\n",
    "        for c in range(gamestate.N):\n",
    "            color = pygame.Color(255, 255, 255)\n",
    "            pygame.draw.rect(screen, color, pygame.Rect(\n",
    "                c * gamestate.sq, r * gamestate.sq, gamestate.sq - 2, gamestate.sq - 2))\n",
    "            if gamestate.tabuleiro[r][c] == 8:\n",
    "                pygame.draw.rect(screen, (128, 128, 128),\n",
    "                                 (c * gamestate.sq, r * gamestate.sq, gamestate.sq - 2, gamestate.sq - 2))\n",
    "            if gamestate.tabuleiro[r][c] == 1:\n",
    "                pygame.draw.ellipse(screen, (220, 20, 60), pygame.Rect(\n",
    "                    # Trabalho Realizado por Pedro Sousa e Inês Cardoso\n",
    "                    c * gamestate.sq + (gamestate.sq / 4), r * gamestate.sq + (gamestate.sq / 4), gamestate.sq / 2, gamestate.sq / 2))\n",
    "            elif gamestate.tabuleiro[r][c] == 2:\n",
    "                pygame.draw.ellipse(screen, (106, 90, 205), pygame.Rect(\n",
    "                    c * gamestate.sq + (gamestate.sq / 4), r * gamestate.sq + (gamestate.sq / 4), gamestate.sq / 2, gamestate.sq / 2))"
   ]
  },
  {
   "cell_type": "markdown",
   "metadata": {},
   "source": [
    "- This function deals with taking of the opponent pieces, after a movement is done, any adjacent pieces are swapped\n",
    "    - Note: Every if in the try...except is to stop taking from across the board because tabuleiro[-1] = tabuleiro[N]\n",
    "\n"
   ]
  },
  {
   "cell_type": "code",
   "execution_count": 14,
   "metadata": {},
   "outputs": [],
   "source": [
    "def comer():\n",
    "    dx = -1\n",
    "    dy = -1\n",
    "    for dx in range(dx, 2):\n",
    "        for dy in range(dy, 2):\n",
    "            try:\n",
    "                if movimento.yf + dy == -1 and movimento.xf + dx == -1:\n",
    "                    if gamestate.tabuleiro[0][0] == troca_jog(movimento.jog):\n",
    "                        gamestate.tabuleiro[movimento.yf + dy +\n",
    "                                            1][movimento.xf + dx+1] = movimento.jog\n",
    "                elif movimento.yf + dy == -1:\n",
    "                    if gamestate.tabuleiro[0][movimento.xf + dx] == troca_jog(movimento.jog):\n",
    "                        gamestate.tabuleiro[movimento.yf + dy +\n",
    "                                            1][movimento.xf + dx] = movimento.jog\n",
    "                elif movimento.xf + dx == -1:\n",
    "                    if gamestate.tabuleiro[movimento.yf + dy][0] == troca_jog(movimento.jog):\n",
    "                        gamestate.tabuleiro[movimento.yf + dy][movimento.xf +\n",
    "                                                               dx+1] = movimento.jog\n",
    "\n",
    "                elif gamestate.tabuleiro[movimento.yf + dy][movimento.xf + dx] == troca_jog(movimento.jog):\n",
    "                    gamestate.tabuleiro[movimento.yf +\n",
    "                                        dy][movimento.xf + dx] = movimento.jog\n",
    "            except IndexError:\n",
    "                pass\n",
    "        dy = -1\n"
   ]
  },
  {
   "cell_type": "markdown",
   "metadata": {},
   "source": [
    "- This function simply executes the movement, if the movement type is jumping,\n",
    "it also removes the piece from its old location, and then checks for piece taking\n"
   ]
  },
  {
   "cell_type": "code",
   "execution_count": 15,
   "metadata": {},
   "outputs": [],
   "source": [
    "def executa_movimento():\n",
    "    gamestate.tabuleiro[movimento.yf][movimento.xf] = movimento.jog\n",
    "    if movimento.tipo == 1:\n",
    "        gamestate.tabuleiro[movimento.yi][movimento.xi] = 0\n",
    "    comer()"
   ]
  },
  {
   "cell_type": "markdown",
   "metadata": {},
   "source": [
    "- Checks if the movement choice is either a jump or a multiplication"
   ]
  },
  {
   "cell_type": "code",
   "execution_count": 16,
   "metadata": {},
   "outputs": [],
   "source": [
    "def adjacente(dist, classe):\n",
    "    return(\n",
    "        abs(classe.xi - classe.xf) == dist and abs(classe.yi - classe.yf) <= dist or\n",
    "        abs(classe.yi - classe.yf) == dist and abs(classe.xi - classe.xf) <= dist)"
   ]
  },
  {
   "cell_type": "markdown",
   "metadata": {},
   "source": [
    "- Checks if the move is inside the board limits"
   ]
  },
  {
   "cell_type": "code",
   "execution_count": 17,
   "metadata": {},
   "outputs": [],
   "source": [
    "def dentro(x, y):\n",
    "    return (x >= 0 and x <= gamestate.N-1 and y >= 0 and y <= gamestate.N-1)\n"
   ]
  },
  {
   "cell_type": "markdown",
   "metadata": {},
   "source": [
    "- Using the last 2 functions, this one checks if the move is totally valid\n",
    "    - Note: the first 'if' removes the L like movement"
   ]
  },
  {
   "cell_type": "code",
   "execution_count": 18,
   "metadata": {},
   "outputs": [],
   "source": [
    "def movimento_valido(classe):\n",
    "    if abs(classe.yf - classe.yi) == 2 and abs(classe.xf - classe.xi) == 1 or abs(classe.xf - classe.xi) == 2 and abs(classe.yf - classe.yi) == 1:\n",
    "        return False\n",
    "    if not dentro(classe.xi, classe.yi) or not dentro(classe.xf, classe.yf):\n",
    "        return False\n",
    "    if gamestate.tabuleiro[classe.yi][classe.xi] == movimento.jog and gamestate.tabuleiro[classe.yf][classe.xf] == 0 and adjacente(1, classe):\n",
    "        classe.tipo = 0\n",
    "        return True\n",
    "    if gamestate.tabuleiro[classe.yi][classe.xi] == movimento.jog and gamestate.tabuleiro[classe.yf][classe.xf] == 0 and adjacente(2, classe):\n",
    "        classe.tipo = 1\n",
    "        return True\n"
   ]
  },
  {
   "cell_type": "markdown",
   "metadata": {},
   "source": [
    "- This function takes an input for the type of game the player wants to play"
   ]
  },
  {
   "cell_type": "code",
   "execution_count": 19,
   "metadata": {},
   "outputs": [],
   "source": [
    "def tipo_jogo():\n",
    "    print(\"Jogo de Ataxx\")\n",
    "    print(\"Escolha o modo de jogo:\")\n",
    "    print(\"1 - Humano vs. Humano \")\n",
    "    print(\"2 - Humano vs. Computador \")\n",
    "    print(\"3 - Computador vs. Computador \")\n",
    "    tipo = input()\n",
    "    return tipo"
   ]
  },
  {
   "cell_type": "markdown",
   "metadata": {},
   "source": [
    "- This function takes the square we clicked and, if it has a piece we can move,\n",
    "it checks all the possible moves and selects them\n"
   ]
  },
  {
   "cell_type": "code",
   "execution_count": 20,
   "metadata": {},
   "outputs": [],
   "source": [
    "def jogadas_validas_pos(jog, yi, xi, screen):\n",
    "    if gamestate.tabuleiro[yi][xi] == jog:\n",
    "        for k in range(gamestate.N):\n",
    "            for l in range(gamestate.N):\n",
    "                movimento.jog = jog\n",
    "                movimento.yi = yi\n",
    "                movimento.xi = xi\n",
    "                movimento.yf = k\n",
    "                movimento.xf = l\n",
    "                if movimento_valido(movimento):\n",
    "                    assinala_quad(k, l, screen)"
   ]
  },
  {
   "cell_type": "markdown",
   "metadata": {},
   "source": [
    "- This function checks the amount of valid moves a player has and returns its value. This will come in handy as if one player has zero moves, it skips his turn."
   ]
  },
  {
   "cell_type": "code",
   "execution_count": 21,
   "metadata": {},
   "outputs": [],
   "source": [
    "def jogadas_validas_total(jog):\n",
    "    nmovs = 0\n",
    "    for y in range(gamestate.N):\n",
    "        for x in range(gamestate.N):\n",
    "            if gamestate.tabuleiro[y][x] == jog:\n",
    "                for k in range(gamestate.N):\n",
    "                    for l in range(gamestate.N):\n",
    "                        movimento.jog = jog\n",
    "                        totalmov.yi = y\n",
    "                        totalmov.xi = x\n",
    "                        totalmov.yf = k\n",
    "                        totalmov.xf = l\n",
    "                        if movimento_valido(totalmov):\n",
    "                            nmovs += 1\n",
    "    return nmovs"
   ]
  },
  {
   "cell_type": "markdown",
   "metadata": {},
   "source": [
    "- Function that counts the amount of pieces the called player has"
   ]
  },
  {
   "cell_type": "code",
   "execution_count": 22,
   "metadata": {},
   "outputs": [],
   "source": [
    "def conta_pecas(jog):\n",
    "    pecas = 0\n",
    "    for i in range(gamestate.N):\n",
    "        for j in range(gamestate.N):\n",
    "            if gamestate.tabuleiro[i][j] == jog:\n",
    "                pecas += 1\n",
    "    return pecas"
   ]
  },
  {
   "cell_type": "markdown",
   "metadata": {},
   "source": [
    "- Function that returns the amount of empty squares"
   ]
  },
  {
   "cell_type": "code",
   "execution_count": 23,
   "metadata": {},
   "outputs": [],
   "source": [
    "def quad_vazios():\n",
    "    nmovs = 0\n",
    "    for i in range(gamestate.N):\n",
    "        for j in range(gamestate.N):\n",
    "            if gamestate.tabuleiro[i][j] == 0:\n",
    "                nmovs += 1\n",
    "    return nmovs"
   ]
  },
  {
   "cell_type": "markdown",
   "metadata": {},
   "source": [
    "-  Checks if the game has reached its end conditions, depending on which one it is,\n",
    "    it sets the winner as one of the players or as a draw."
   ]
  },
  {
   "cell_type": "code",
   "execution_count": 24,
   "metadata": {},
   "outputs": [],
   "source": [
    "def fim_jogo():\n",
    "    n = quad_vazios()\n",
    "    if conta_pecas(1) == 0 or conta_pecas(2) == 0:\n",
    "        if conta_pecas(1) == 0:\n",
    "            gamestate.vencedor = 1\n",
    "            return -1\n",
    "        else:\n",
    "            gamestate.vencedor = -1\n",
    "            return -1\n",
    "    if n == 0:\n",
    "        if (conta_pecas(1) - conta_pecas(2) >= 0):\n",
    "            gamestate.vencedor = -1\n",
    "            return -1\n",
    "        if (conta_pecas(1) - conta_pecas(2) < 0):\n",
    "            gamestate.vencedor = 1\n",
    "            return -1\n",
    "        else:\n",
    "            gamestate.vencedor = 0\n",
    "            return -1\n",
    "    else:\n",
    "        return 0"
   ]
  },
  {
   "cell_type": "markdown",
   "metadata": {},
   "source": [
    "- And after setting the winner (or draw), it prints it to the console."
   ]
  },
  {
   "cell_type": "code",
   "execution_count": 25,
   "metadata": {},
   "outputs": [],
   "source": [
    "def finaliza():\n",
    "    if gamestate.vencedor != 0:\n",
    "        if gamestate.vencedor == -1:\n",
    "            print(\"Jogador vermelho ganha !\")\n",
    "        else:\n",
    "            print(\"Jogador azul ganha !\")\n",
    "    else:\n",
    "        print(\"Empate!\")"
   ]
  },
  {
   "cell_type": "markdown",
   "metadata": {},
   "source": [
    "- Manages the human player movement by:\n",
    "  If it has no valid moves, it skips the player's turn\n",
    "  Seeing if it is the first or the second click, and saving it as the initial coords or final coords, respectively\n",
    "  Selecting the clicked piece and all the valid moves\n"
   ]
  },
  {
   "cell_type": "code",
   "execution_count": 26,
   "metadata": {},
   "outputs": [],
   "source": [
    "def jogada_Humano(cl, px, py, screen):\n",
    "    if cl == 0:\n",
    "        movimento.xi = px\n",
    "        movimento.yi = py\n",
    "        assinala_quad(py, px, screen)\n",
    "        jogadas_validas_pos(movimento.jog, py, px, screen)\n",
    "    elif cl == 1:\n",
    "        movimento.xf = px\n",
    "        movimento.yf = py"
   ]
  },
  {
   "cell_type": "markdown",
   "metadata": {},
   "source": [
    "- Manages the computer made movements:\n",
    "  For each piece it has, it tries every possivle move, by doing it, evaluating it, and restoring the game to before the move\n",
    "  for each evaluation, it saves the movement with the best evaluation score and then, after every move has been played\n",
    "  it does the said best move"
   ]
  },
  {
   "cell_type": "code",
   "execution_count": 27,
   "metadata": {},
   "outputs": [],
   "source": [
    "def jogada_PC():\n",
    "    bestav = -1000\n",
    "    for yi in range(gamestate.N):\n",
    "        for xi in range(gamestate.N):\n",
    "            if gamestate.tabuleiro[yi][xi] == movimento.jog:\n",
    "                for k in range(0, gamestate.N):\n",
    "                    for l in range(0, gamestate.N):\n",
    "                        movimento.yi = yi\n",
    "                        movimento.xi = xi\n",
    "                        movimento.yf = l\n",
    "                        movimento.xf = k\n",
    "                        if movimento_valido(movimento):\n",
    "                            copia()\n",
    "                            executa_movimento()\n",
    "                            if gamestate.nMovs % 2 != 1:\n",
    "                                av = avalia(gamestate.ai2diff)\n",
    "                            else:\n",
    "                                av = avalia(gamestate.ai1diff)\n",
    "                            restaura()\n",
    "                            if av >= bestav:\n",
    "                                bestav = av\n",
    "                                bestmov.yi = movimento.yi\n",
    "                                bestmov.xi = movimento.xi\n",
    "                                bestmov.yf = movimento.yf\n",
    "                                bestmov.xf = movimento.xf\n",
    "    movimento.yi = bestmov.yi\n",
    "    movimento.xi = bestmov.xi\n",
    "    movimento.yf = bestmov.yf\n",
    "    movimento.xf = bestmov.xf\n",
    "    if movimento_valido(movimento):\n",
    "        executa_movimento()"
   ]
  },
  {
   "cell_type": "markdown",
   "metadata": {},
   "source": [
    "- When the computer asks to evaluate a play, if firstly asks which algorithm will be used for the evaluation (depending on the difficulty/algorithm chosen)."
   ]
  },
  {
   "cell_type": "code",
   "execution_count": 28,
   "metadata": {},
   "outputs": [],
   "source": [
    "def avalia(tipo):\n",
    "    tipo = int(tipo)\n",
    "    score = 0\n",
    "    if tipo == 1:\n",
    "        score = algo_random()\n",
    "    elif tipo == 2:\n",
    "        score = algo_greedy()\n",
    "    elif tipo == 3:\n",
    "        score = algo_centercontrol()\n",
    "    elif tipo == 4:\n",
    "        if gamestate.nMovs % 2 != 1:\n",
    "            movimento.jog = 1\n",
    "            minmaxmov.min = 1\n",
    "            minmaxmov.max = 2\n",
    "        else:\n",
    "            movimento.jog = 2\n",
    "            minmaxmov.min = 2\n",
    "            minmaxmov.max = 1\n",
    "        minmaxmov.yi = movimento.yi\n",
    "        minmaxmov.xi = movimento.xi\n",
    "        minmaxmov.yf = movimento.yf\n",
    "        minmaxmov.xf = movimento.xf\n",
    "        alfa = -100000\n",
    "        beta = 100000\n",
    "        score = algo_minmax(0, True, alfa, beta)\n",
    "        movimento.yi = minmaxmov.yi\n",
    "        movimento.xi = minmaxmov.xi\n",
    "        movimento.yf = minmaxmov.yf\n",
    "        movimento.xf = minmaxmov.xf\n",
    "    elif tipo > 4:\n",
    "        score = random.random()\n",
    "    return score"
   ]
  },
  {
   "cell_type": "markdown",
   "metadata": {},
   "source": [
    "Random Algorithm: Evaluates a move with a random value from 1 to 10."
   ]
  },
  {
   "cell_type": "code",
   "execution_count": 29,
   "metadata": {},
   "outputs": [],
   "source": [
    "def algo_random():\n",
    "    return (random.randint(1, 10))"
   ]
  },
  {
   "cell_type": "markdown",
   "metadata": {},
   "source": [
    "Greedy Algorithm: Evaluates a move based on the difference of pieces"
   ]
  },
  {
   "cell_type": "code",
   "execution_count": 30,
   "metadata": {},
   "outputs": [],
   "source": [
    "def algo_greedy():\n",
    "    salt = random.random()\n",
    "    return (conta_pecas(movimento.jog) - conta_pecas(troca_jog(movimento.jog))+salt)"
   ]
  },
  {
   "cell_type": "markdown",
   "metadata": {},
   "source": [
    "Center Control Algorithm: It focuses on controlling the board"
   ]
  },
  {
   "cell_type": "code",
   "execution_count": 31,
   "metadata": {},
   "outputs": [],
   "source": [
    "def algo_centercontrol():\n",
    "    salt = random.random()\n",
    "    yc = abs(gamestate.N / 2 - movimento.yf)\n",
    "    xc = abs(gamestate.N / 2 - movimento. xf)\n",
    "    score = 100 - (yc + xc) + 2*conta_pecas(movimento.jog) + salt\n",
    "    return score"
   ]
  },
  {
   "cell_type": "markdown",
   "metadata": {},
   "source": [
    "Minmax Algorithm: Paired with the greedy heuristic, it plays every possible sequence of moves in a depth-first tree search, up to a certain depth, and then evaluates the ending states, then after every state is done (or, if a state doesn't meet the alpha-beta pruning requirements, in which is skipped), it plays the one with the most favorable outcome for the computer"
   ]
  },
  {
   "cell_type": "code",
   "execution_count": 32,
   "metadata": {},
   "outputs": [],
   "source": [
    "def algo_minmax(depth, minimizer, alfa, beta):\n",
    "    if depth == 3 or fim_jogo == -1:\n",
    "        return (algo_greedy() * (-1))\n",
    "\n",
    "    if minimizer:\n",
    "        movimento.jog = minmaxmov.min\n",
    "        value = +1000\n",
    "        for yi in range(gamestate.N):\n",
    "            for xi in range(gamestate.N):\n",
    "                if gamestate.tabuleiro[yi][xi] == movimento.jog:\n",
    "                    for k in range(0, gamestate.N):\n",
    "                        for l in range(0, gamestate.N):\n",
    "                            movimento.yi = yi\n",
    "                            movimento.xi = xi\n",
    "                            movimento.yf = l\n",
    "                            movimento.xf = k\n",
    "                            if movimento_valido(movimento):\n",
    "                                temp = copy.deepcopy(gamestate.tabuleiro)\n",
    "                                executa_movimento()\n",
    "                                evaluation = algo_minmax(\n",
    "                                    depth + 1, False, alfa, beta)\n",
    "                                gamestate.tabuleiro = temp\n",
    "                                value = min(value, evaluation)\n",
    "                                beta = min(beta, evaluation)\n",
    "                                if beta <= alfa:\n",
    "                                    break\n",
    "        movimento.jog = minmaxmov.max\n",
    "        return value\n",
    "    else:\n",
    "        movimento.jog = minmaxmov.max\n",
    "        value = -1000\n",
    "        for yi in range(gamestate.N):\n",
    "            for xi in range(gamestate.N):\n",
    "                if gamestate.tabuleiro[yi][xi] == movimento.jog:\n",
    "                    for k in range(0, gamestate.N):\n",
    "                        for l in range(0, gamestate.N):\n",
    "                            movimento.yi = yi\n",
    "                            movimento.xi = xi\n",
    "                            movimento.yf = l\n",
    "                            movimento.xf = k\n",
    "                            if movimento_valido(movimento):\n",
    "                                temp = copy.deepcopy(gamestate.tabuleiro)\n",
    "                                executa_movimento()\n",
    "                                evaluation = algo_minmax(\n",
    "                                    depth + 1, True, alfa, beta)\n",
    "                                gamestate.tabuleiro = temp\n",
    "                                value = max(value, evaluation)\n",
    "                                alfa = max(alfa, evaluation)\n",
    "                                if beta <= alfa:\n",
    "                                    break\n",
    "        movimento.jog = minmaxmov.min\n",
    "        return value"
   ]
  },
  {
   "cell_type": "markdown",
   "metadata": {},
   "source": [
    "### Main Function"
   ]
  },
  {
   "cell_type": "markdown",
   "metadata": {},
   "source": [
    "- Main function, executes:\n",
    "   - The type and board selection functions,\n",
    "   - Generates the window and the board,\n",
    "   - Begins the loop that sets the game playing.\n",
    "   \n",
    "- While the game plays (inside the `while running:` ), it checks for 2 different events:\n",
    "\n",
    "    - If the player has no turns, it skips his turn;\n",
    "\n",
    "    - If the X is pressed, the game exits;\n",
    "\n",
    "    - If a click is made, it begins the piece-moving chain of events;\n",
    "\n",
    "    - Checks if a player has no moves, and if he does, skips his turn;\n",
    "\n",
    "\n",
    "- On the `MOUSEBUTTONDOWN` event, we firstly get the pixel coordinates of the click and then we convert them to the coordinates of the squares we clicked.\n",
    "\n",
    "    - As the variable `nMovs` is updated after each move, when the variable is odd, it means it is the first player moving, or else it is the second player's turn. Might aswell note that, if a player has no legal moves, we add another unit to `nMovs` and change the player who gets to play in order to skip a turn.\n",
    "    \n",
    "    - Now depending on the game type chosen earlier, it will accept either 2 click or 4 clicks, 4 clicks if it is a Human vs Human game, or 2 click if it is a Human vs PC game. The clicks are taken in pairs because, for each turn, we need 1 click to select the piece and another one to select the final position, thats the use of the cl variable, when the first click is made, it is set to 1, when the second click is made, it resets to 0.\n",
    "\n",
    "    - After both clicks are made and the move is executed, we change the player's turn and update the board matrix with the new piece layout.\n",
    "\n",
    "    - And to finish off the player's turn, we update the screen with the new board.\n",
    "- While the game is still running, after each loop, we execute the functions that verify if the game is over and, if it has, we finish it."
   ]
  },
  {
   "cell_type": "code",
   "execution_count": 33,
   "metadata": {},
   "outputs": [
    {
     "name": "stdout",
     "output_type": "stream",
     "text": [
      "Jogo de Ataxx\n",
      "Escolha o modo de jogo:\n",
      "1 - Humano vs. Humano \n",
      "2 - Humano vs. Computador \n",
      "3 - Computador vs. Computador \n",
      "Tabuleiros:\n",
      "1) Original\n",
      "2) Sem paredes\n",
      "3) Circular\n",
      "4) Coração\n",
      "5) Alvo\n",
      "6) Xadrez\n",
      "7) Foxy\n",
      "8) 5x5\n",
      "9) 6x6\n"
     ]
    }
   ],
   "source": [
    "def main():\n",
    "    cl = 0\n",
    "    fim = 0\n",
    "    movimento.jog = 1\n",
    "    gamestate.tipo = int(tipo_jogo())\n",
    "    dificuldade()\n",
    "    tabuleiro = escolhe_tabul()\n",
    "    carrega_tabul(tabuleiro)\n",
    "    screen = pygame.display.set_mode((SIZE, SIZE))\n",
    "    clock = pygame.time.Clock()\n",
    "    screen.fill((0, 0, 0))\n",
    "    mostra_tabul(screen)\n",
    "    clock.tick(30)\n",
    "    pygame.display.flip()\n",
    "    running = True\n",
    "\n",
    "    while running:\n",
    "\n",
    "        if jogadas_validas_total(movimento.jog) == 0:\n",
    "            gamestate.nMovs += 1\n",
    "            movimento.jog = troca_jog(movimento.jog)\n",
    "\n",
    "        for e in pygame.event.get():\n",
    "            if e.type == pygame.QUIT:\n",
    "                pygame.quit()\n",
    "                time.sleep(2)\n",
    "                running = False\n",
    "\n",
    "            elif e.type == pygame.MOUSEBUTTONDOWN:\n",
    "\n",
    "                click = pygame.mouse.get_pos()\n",
    "                yi = int(click[1] // gamestate.sq)\n",
    "                xi = int(click[0] // gamestate.sq)\n",
    "\n",
    "                if gamestate.nMovs % 2 == 1:\n",
    "\n",
    "                    if gamestate.tipo <= 2:\n",
    "                        if cl == 0 and gamestate.tabuleiro[yi][xi] == movimento.jog:\n",
    "                            jogada_Humano(cl, xi, yi, screen)\n",
    "                            cl = 1\n",
    "                        elif cl == 1:\n",
    "                            jogada_Humano(cl, xi, yi, screen)\n",
    "                            cl = 0\n",
    "                            if movimento_valido(movimento):\n",
    "                                executa_movimento()\n",
    "\n",
    "                                gamestate.nMovs += 1\n",
    "                                movimento.jog = 2\n",
    "\n",
    "                            mostra_tabul(screen)\n",
    "                else:\n",
    "\n",
    "                    if gamestate.tipo == 1:\n",
    "                        if cl == 0 and gamestate.tabuleiro[yi][xi] == movimento.jog:\n",
    "                            jogada_Humano(cl, xi, yi, screen)\n",
    "                            cl = 1\n",
    "                        elif cl == 1:\n",
    "                            jogada_Humano(cl, xi, yi, screen)\n",
    "                            cl = 0\n",
    "                            if movimento_valido(movimento):\n",
    "                                executa_movimento()\n",
    "                                gamestate.nMovs += 1\n",
    "                                movimento.jog = 1\n",
    "                            mostra_tabul(screen)\n",
    "            try:\n",
    "                pygame.display.flip()\n",
    "            except pygame.error:\n",
    "                pass\n",
    "\n",
    "        if gamestate.nMovs % 2 != 1 and gamestate.tipo >= 2:\n",
    "            jogada_PC()\n",
    "            gamestate.nMovs += 1\n",
    "            mostra_tabul(screen)\n",
    "            movimento.jog = 1\n",
    "            time.sleep(1)\n",
    "            pygame.display.flip()\n",
    "        if gamestate.tipo == 3:\n",
    "            jogada_PC()\n",
    "            gamestate.nMovs += 1\n",
    "            mostra_tabul(screen)\n",
    "            movimento.jog = 2\n",
    "            time.sleep(1)\n",
    "            pygame.display.flip()\n",
    "\n",
    "        try:\n",
    "            pygame.display.flip()\n",
    "        except pygame.error:\n",
    "            pass\n",
    "\n",
    "        fim = fim_jogo()\n",
    "        if fim == -1:\n",
    "            print(\"\\n\")\n",
    "            print(\"Jogador Vermelho:\", conta_pecas(1))\n",
    "            print(\"Jogador Azul:\", conta_pecas(2))\n",
    "            finaliza()\n",
    "            print(\"\\n\")\n",
    "            print(\"Trabalho realizado por:\")\n",
    "            print(\"Pedro Sousa\")\n",
    "            print(\"Inês Cardoso\")\n",
    "            time.sleep(1)\n",
    "            pygame.quit()\n",
    "            running = False\n",
    "\n",
    "\n",
    "main()"
   ]
  }
 ],
 "metadata": {
  "interpreter": {
   "hash": "9f27538263f2b06562ba4c3e17832466b72ccd68c529f4ccd732119dafa958f1"
  },
  "kernelspec": {
   "display_name": "Python 3 (ipykernel)",
   "language": "python",
   "name": "python3"
  },
  "language_info": {
   "codemirror_mode": {
    "name": "ipython",
    "version": 3
   },
   "file_extension": ".py",
   "mimetype": "text/x-python",
   "name": "python",
   "nbconvert_exporter": "python",
   "pygments_lexer": "ipython3",
   "version": "3.10.0"
  }
 },
 "nbformat": 4,
 "nbformat_minor": 2
}
