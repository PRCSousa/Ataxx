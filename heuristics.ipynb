{
 "cells": [
  {
   "cell_type": "markdown",
   "metadata": {},
   "source": [
    "Raw Greedy\n",
    "- Chooses the move that takes more pieces from the opponent"
   ]
  },
  {
   "cell_type": "code",
   "execution_count": 14,
   "metadata": {},
   "outputs": [],
   "source": [
    "def avalia():\n",
    "    salt = random.random()\n",
    "    return (conta_pecas(movimento.jog) - conta_pecas(outroJog(movimento.jog))+salt)"
   ]
  },
  {
   "cell_type": "markdown",
   "metadata": {},
   "source": [
    "Center Control\n",
    "- Goes for the middle and tries to gets as much pieces in the middle as possible\n",
    "- It gives double score to piece difference to disregard suicide moves in the name of center control"
   ]
  },
  {
   "cell_type": "code",
   "execution_count": 15,
   "metadata": {},
   "outputs": [],
   "source": [
    "def avalia():\n",
    "    salt = random.random()\n",
    "    yc = abs(gamestate.N / 2 - movimento.yf)\n",
    "    xc = abs(gamestate.N / 2 - movimento. xf)\n",
    "    score = 100 - (yc + xc) + 2*conta_pecas(movimento.jog) + salt\n",
    "    return score\n",
    "    \n"
   ]
  },
  {
   "cell_type": "markdown",
   "metadata": {},
   "source": [
    "Random\n",
    "- Simply returns a random value for each move and plays the one with highest score"
   ]
  },
  {
   "cell_type": "code",
   "execution_count": null,
   "metadata": {},
   "outputs": [],
   "source": [
    "def avalia():\n",
    "    randomint = random.randint(1,10)\n",
    "    return randomint"
   ]
  },
  {
   "cell_type": "markdown",
   "metadata": {},
   "source": [
    "Minmax\n",
    "- Plays the move where the opponents gets to play the lowest evaluated moves"
   ]
  },
  {
   "cell_type": "code",
   "execution_count": null,
   "metadata": {},
   "outputs": [],
   "source": []
  }
 ],
 "metadata": {
  "interpreter": {
   "hash": "9f27538263f2b06562ba4c3e17832466b72ccd68c529f4ccd732119dafa958f1"
  },
  "kernelspec": {
   "display_name": "Python 3.10.0 64-bit",
   "language": "python",
   "name": "python3"
  },
  "language_info": {
   "codemirror_mode": {
    "name": "ipython",
    "version": 3
   },
   "file_extension": ".py",
   "mimetype": "text/x-python",
   "name": "python",
   "nbconvert_exporter": "python",
   "pygments_lexer": "ipython3",
   "version": "3.10.0"
  },
  "orig_nbformat": 4
 },
 "nbformat": 4,
 "nbformat_minor": 2
}
